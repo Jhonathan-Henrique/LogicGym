{
  "nbformat": 4,
  "nbformat_minor": 0,
  "metadata": {
    "colab": {
      "provenance": [],
      "authorship_tag": "ABX9TyPWzAgnXBU8gmVgplm/mwQQ",
      "include_colab_link": true
    },
    "kernelspec": {
      "name": "python3",
      "display_name": "Python 3"
    },
    "language_info": {
      "name": "python"
    }
  },
  "cells": [
    {
      "cell_type": "markdown",
      "metadata": {
        "id": "view-in-github",
        "colab_type": "text"
      },
      "source": [
        "<a href=\"https://colab.research.google.com/github/Jhonathan-Henrique/LogicGym/blob/main/exercicio_python_Alura.ipynb\" target=\"_parent\"><img src=\"https://colab.research.google.com/assets/colab-badge.svg\" alt=\"Open In Colab\"/></a>"
      ]
    },
    {
      "cell_type": "markdown",
      "source": [
        "Exercicios da **Alura**\n",
        "# Nova seção"
      ],
      "metadata": {
        "id": "lpvIncxJ8Qba"
      }
    },
    {
      "cell_type": "code",
      "execution_count": 1,
      "metadata": {
        "id": "s9Mr7_kH8Mnc"
      },
      "outputs": [],
      "source": [
        "###Exercicios da Alura Python\n",
        "#Crie um programa que solicite à pessoa usuária digitar seu nome, e imprima “Olá, [nome]!”."
      ]
    },
    {
      "cell_type": "code",
      "source": [
        "nome = input('Digite o seu nome: ')\n",
        "print(f'Olá, {nome}')"
      ],
      "metadata": {
        "colab": {
          "base_uri": "https://localhost:8080/"
        },
        "id": "lujsSkBi8eDI",
        "outputId": "8a2aa68a-a958-4645-82ff-5ae36c4f1a0b"
      },
      "execution_count": 2,
      "outputs": [
        {
          "output_type": "stream",
          "name": "stdout",
          "text": [
            "Digite o seu nome: Jhonathan\n",
            "Olá, Jhonathan\n"
          ]
        }
      ]
    },
    {
      "cell_type": "markdown",
      "source": [
        "#Crie um programa que solicite à pessoa usuária digitar seu nome e idade, e imprima “Olá, [nome], você tem [idade] anos.”."
      ],
      "metadata": {
        "id": "zW8URbOB8qAJ"
      }
    },
    {
      "cell_type": "code",
      "source": [
        "nome = input('Digite seu nome: ')\n",
        "idade = input('Digite sua idade: ')\n",
        "print(f'Olá, {nome}, você tem {idade} anos.')"
      ],
      "metadata": {
        "colab": {
          "base_uri": "https://localhost:8080/"
        },
        "id": "ET44Y5tF8uEx",
        "outputId": "98567226-fca0-43e9-a5df-f3342cf3a8f1"
      },
      "execution_count": 4,
      "outputs": [
        {
          "output_type": "stream",
          "name": "stdout",
          "text": [
            "Digite seu nome: Jhonathan\n",
            "Digite sua idade: 29\n",
            "Olá, Jhonathan, você tem 29 anos.\n"
          ]
        }
      ]
    },
    {
      "cell_type": "markdown",
      "source": [
        "# Crie um programa que solicite à pessoa usuária digitar seu nome, idade e altura em metros, e imprima “Olá, [nome], você tem [idade] anos e mede [altura] metros!”."
      ],
      "metadata": {
        "id": "fX10gvnU9nsZ"
      }
    },
    {
      "cell_type": "code",
      "source": [
        "nome = input('Digite seu nome: ')\n",
        "idade = input('Digite sua idade: ')\n",
        "altura = input('Qual sua altura em metros?')\n",
        "\n",
        "print(f'Olá, {nome}, você tem {idade} anos e mede {altura} metros!')"
      ],
      "metadata": {
        "colab": {
          "base_uri": "https://localhost:8080/"
        },
        "id": "LkvfMuNd9pQx",
        "outputId": "f261f1b6-e184-43dc-e12b-5e6c0575084d"
      },
      "execution_count": 5,
      "outputs": [
        {
          "output_type": "stream",
          "name": "stdout",
          "text": [
            "Digite seu nome: Jhonathan\n",
            "Digite sua idade: 29\n",
            "Qual sua altura em metros?190\n",
            "Olá, Jhonathan, você tem 29 anos e mede 190 metros!\n"
          ]
        }
      ]
    },
    {
      "cell_type": "markdown",
      "source": [
        "# Crie um programa que solicite dois valores numéricos à pessoa usuária e imprima a soma dos dois valores."
      ],
      "metadata": {
        "id": "wgTbTCmc-I_J"
      }
    },
    {
      "cell_type": "code",
      "source": [
        "valor_1 = int(input('Digite o valor 1: '))\n",
        "valor_2 = int(input('Digite o valor 2: '))\n",
        "soma = valor_1 + valor_2\n",
        "\n",
        "print(f'O valor 1: {valor_1} + o valor 2: {valor_2} é igual a: {soma}')"
      ],
      "metadata": {
        "colab": {
          "base_uri": "https://localhost:8080/"
        },
        "id": "LCWyVH8y-KXY",
        "outputId": "caa81f6e-41a6-4179-c4f3-ffeb8716ce03"
      },
      "execution_count": 6,
      "outputs": [
        {
          "output_type": "stream",
          "name": "stdout",
          "text": [
            "Digite o valor 1: 10\n",
            "Digite o valor 2: 30\n",
            "O valor 1: 10 + o valor 2: 30 é igual a: 40\n"
          ]
        }
      ]
    },
    {
      "cell_type": "markdown",
      "source": [
        "# Crie um programa que solicite três valores numéricos à pessoa usuária e imprima a soma dos três valores."
      ],
      "metadata": {
        "id": "vMly4bxs-kSI"
      }
    },
    {
      "cell_type": "code",
      "source": [
        "valor_1 = int(input('Digite o valor 1: '))\n",
        "valor_2 = int(input('Digite o valor 2: '))\n",
        "valor_3 = int(input('Digite o valor 3: '))\n",
        "soma = valor_1 + valor_2 + valor_3\n",
        "\n",
        "print(f'O valor 1: {valor_1} + o valor 2: {valor_2} + valor 3: {valor_3} é igual a: {soma}')"
      ],
      "metadata": {
        "colab": {
          "base_uri": "https://localhost:8080/"
        },
        "id": "T6tBWH5j-uTI",
        "outputId": "8cb5b973-58f5-4766-a384-164fc85bd049"
      },
      "execution_count": 7,
      "outputs": [
        {
          "output_type": "stream",
          "name": "stdout",
          "text": [
            "Digite o valor 1: 10\n",
            "Digite o valor 2: 20\n",
            "Digite o valor 3: 30\n",
            "O valor 1: 10 + o valor 2: 20 + valor 3: 30 é igual a: 60\n"
          ]
        }
      ]
    },
    {
      "cell_type": "markdown",
      "source": [
        "# Crie um programa que solicite dois valores numéricos à pessoa usuária e imprima a subtração do primeiro pelo o segundo valor."
      ],
      "metadata": {
        "id": "pLWOSqVn_ZEZ"
      }
    },
    {
      "cell_type": "code",
      "source": [
        "valor_1 = int(input('Digite o primeiro valor: '))\n",
        "valor_2 = int(input('Digite o segundo valor: '))\n",
        "subtracao = valor_1 - valor_2\n",
        "print(f'O valor 1: {valor_1} - valor 2: {valor_2} resultado: {subtracao}')"
      ],
      "metadata": {
        "colab": {
          "base_uri": "https://localhost:8080/"
        },
        "id": "N-mdo-I2_aZw",
        "outputId": "84d00cae-0fb4-4803-b743-77fd5ab20b95"
      },
      "execution_count": 8,
      "outputs": [
        {
          "output_type": "stream",
          "name": "stdout",
          "text": [
            "Digite o primeiro valor: 20\n",
            "Digite o segundo valor: 10\n",
            "O valor 1: 20 - valor 2: 10 resultado: 10\n"
          ]
        }
      ]
    },
    {
      "cell_type": "markdown",
      "source": [
        "# Crie um programa que solicite dois valores numéricos à pessoa usuária e imprima a multiplicação dos dois valores."
      ],
      "metadata": {
        "id": "RlkHxEXC_9lw"
      }
    },
    {
      "cell_type": "code",
      "source": [
        "valor_1 = int(input('Digite o primeiro valor: '))\n",
        "valor_2 = int(input('Digite o segundo valor: '))\n",
        "multiplicacao = valor_1 * valor_2\n",
        "print(f'O valor 1: {valor_1} * valor 2: {valor_2} resultado: {multiplicacao}')"
      ],
      "metadata": {
        "colab": {
          "base_uri": "https://localhost:8080/"
        },
        "id": "0tIDpIBmAEtI",
        "outputId": "d8dcef71-17c5-44c3-d1af-89f5ee6e7f04"
      },
      "execution_count": 9,
      "outputs": [
        {
          "output_type": "stream",
          "name": "stdout",
          "text": [
            "Digite o primeiro valor: 6\n",
            "Digite o segundo valor: 9\n",
            "O valor 1: 6 * valor 2: 9 resultado: 54\n"
          ]
        }
      ]
    },
    {
      "cell_type": "markdown",
      "source": [
        "# Crie um programa que solicite dois valores numéricos, um numerador e um denominador, e realize a divisão entre os dois valores. Deixe claro que o valor do denominador não pode ser 0."
      ],
      "metadata": {
        "id": "rgI6PONxASk4"
      }
    },
    {
      "cell_type": "code",
      "source": [
        "valor_1 = int(input('Digite o primeiro valor: '))\n",
        "valor_2 = int(input('Digite o segundo valor: '))\n",
        "divicao = valor_1 / valor_2\n",
        "print(f'O valor 1: {valor_1} / valor 2: {valor_2} resultado: {divicao}')"
      ],
      "metadata": {
        "colab": {
          "base_uri": "https://localhost:8080/"
        },
        "id": "5nVXZwceATlo",
        "outputId": "13a7bd0d-d2cf-4ead-cda4-a9b5ebcb7db3"
      },
      "execution_count": 10,
      "outputs": [
        {
          "output_type": "stream",
          "name": "stdout",
          "text": [
            "Digite o primeiro valor: 10\n",
            "Digite o segundo valor: 5\n",
            "O valor 1: 10 / valor 2: 5 resultado: 2.0\n"
          ]
        }
      ]
    },
    {
      "cell_type": "markdown",
      "source": [
        "# Crie um programa que solicite dois valores numéricos, um operador e uma potência, e realize a exponenciação entre esses dois valores."
      ],
      "metadata": {
        "id": "ZNg8r9PXAjWJ"
      }
    },
    {
      "cell_type": "code",
      "source": [
        "valor_1 = int(input('Digite o primeiro valor: '))\n",
        "valor_2 = int(input('Digite o segundo valor: '))\n",
        "exponenciacao = valor_1 ** valor_2\n",
        "print(f'O valor 1: {valor_1} ** valor 2: {valor_2} resultado: {exponenciacao}')"
      ],
      "metadata": {
        "colab": {
          "base_uri": "https://localhost:8080/"
        },
        "id": "9IahiD69AkSQ",
        "outputId": "01120baf-1a08-450c-9a98-9f37325de068"
      },
      "execution_count": 13,
      "outputs": [
        {
          "output_type": "stream",
          "name": "stdout",
          "text": [
            "Digite o primeiro valor: 9\n",
            "Digite o segundo valor: 10\n",
            "O valor 1: 9 ** valor 2: 10 resultado: 3486784401\n"
          ]
        }
      ]
    },
    {
      "cell_type": "markdown",
      "source": [
        "# Crie um programa que solicite dois valores numéricos, um numerador e um denominador e realize a divisão inteira entre os dois valores. Deixe claro que o valor do denominador não pode ser 0."
      ],
      "metadata": {
        "id": "LTeSwWgTA4BV"
      }
    },
    {
      "cell_type": "code",
      "source": [
        "valor_1 = int(input('Digite o primeiro valor: '))\n",
        "valor_2 = int(input('Digite o segundo valor: '))\n",
        "divicao = valor_1 // valor_2\n",
        "print(f'O valor 1: {valor_1} // valor 2: {valor_2} resultado: {divicao}')"
      ],
      "metadata": {
        "colab": {
          "base_uri": "https://localhost:8080/"
        },
        "id": "iCENg-vXA5RI",
        "outputId": "256d0360-fcad-410b-c748-b051e65a6cc0"
      },
      "execution_count": 15,
      "outputs": [
        {
          "output_type": "stream",
          "name": "stdout",
          "text": [
            "Digite o primeiro valor: 9\n",
            "Digite o segundo valor: 8\n",
            "O valor 1: 9 // valor 2: 8 resultado: 1\n"
          ]
        }
      ]
    },
    {
      "cell_type": "markdown",
      "source": [
        "# Crie um programa que solicite dois valores numéricos, um numerador e um denominador, e retorne o resto da divisão entre os dois valores. Deixe claro que o valor do denominador não pode ser 0."
      ],
      "metadata": {
        "id": "tTAb9AE1BKlx"
      }
    },
    {
      "cell_type": "code",
      "source": [
        "valor_1 = int(input('Digite o primeiro valor: '))\n",
        "valor_2 = int(input('Digite o segundo valor: '))\n",
        "resto = valor_1 % valor_2\n",
        "print(f'O valor 1: {valor_1} % valor 2: {valor_2} resultado: {resto}')"
      ],
      "metadata": {
        "colab": {
          "base_uri": "https://localhost:8080/"
        },
        "id": "V7EeIH0yBLhI",
        "outputId": "2180336b-39c2-4384-a779-38a3eecfe323"
      },
      "execution_count": 16,
      "outputs": [
        {
          "output_type": "stream",
          "name": "stdout",
          "text": [
            "Digite o primeiro valor: 10\n",
            "Digite o segundo valor: 9\n",
            "O valor 1: 10 % valor 2: 9 resultado: 1\n"
          ]
        }
      ]
    },
    {
      "cell_type": "markdown",
      "source": [
        "# Crie um código que solicita 3 notas de um estudante e imprima a média das notas."
      ],
      "metadata": {
        "id": "Am_TSz0vBV54"
      }
    },
    {
      "cell_type": "code",
      "source": [
        "valor_1 = int(input('Digite o primeiro valor: '))\n",
        "valor_2 = int(input('Digite o segundo valor: '))\n",
        "valor_3 = int(input('Digite o terceiro valor: '))\n",
        "media = (valor_1 + valor_2 + valor_3) / 3\n",
        "\n",
        "print(f'A média do aluno nas 3 notas foi: {media:.2f}')"
      ],
      "metadata": {
        "colab": {
          "base_uri": "https://localhost:8080/"
        },
        "id": "ff7PYKWlBXJg",
        "outputId": "f6f9d96b-6811-4b4b-a89d-916f904556c7"
      },
      "execution_count": 18,
      "outputs": [
        {
          "output_type": "stream",
          "name": "stdout",
          "text": [
            "Digite o primeiro valor: 10\n",
            "Digite o segundo valor: 8\n",
            "Digite o terceiro valor: 6\n",
            "A média do aluno nas 3 notas foi: 8.00\n"
          ]
        }
      ]
    },
    {
      "cell_type": "markdown",
      "source": [
        "# Crie um código que calcule e imprima a média ponderada dos números 5, 12, 20 e 15 com pesos respectivamente iguais a 1, 2, 3 e 4."
      ],
      "metadata": {
        "id": "9239njggBwuo"
      }
    },
    {
      "cell_type": "code",
      "source": [
        "numeros = [5,12,20,15]\n",
        "pesos = [1,2,3,4]\n",
        "\n",
        "media_ponderada = (numeros[0] * pesos[0] +\n",
        "numeros[1] * pesos[1] +\n",
        "numeros[2] * pesos[2] +\n",
        "numeros[3] * pesos[3]) / sum(pesos)\n",
        "print(media_ponderada)"
      ],
      "metadata": {
        "colab": {
          "base_uri": "https://localhost:8080/"
        },
        "id": "knX5UheCBxuI",
        "outputId": "2bb369cc-5b02-4e33-8872-f47dddd38174"
      },
      "execution_count": 21,
      "outputs": [
        {
          "output_type": "stream",
          "name": "stdout",
          "text": [
            "14.9\n"
          ]
        }
      ]
    },
    {
      "cell_type": "markdown",
      "source": [
        "Crie uma variável chamada “frase” e atribua a ela uma string de sua escolha. Em seguida, imprima a frase na tela.\n",
        "\n",
        "Crie um código que solicite uma frase e depois imprima a frase na tela.\n",
        "\n",
        "Crie um código que solicite uma frase à pessoa usuária e imprima a mesma frase digitada mas com todas as letras maiúsculas.\n",
        "\n",
        "Crie um código que solicite uma frase à pessoa usuária e imprima a mesma frase digitada mas com todas as letras minúsculas.\n",
        "\n",
        "Crie uma variável chamada “frase” e atribua a ela uma string de sua escolha. Em seguida, imprima a frase sem espaços em branco no início e no fim.\n",
        "\n",
        "Crie um código que solicite uma frase à pessoa usuária e imprima a mesma frase sem espaços em branco no início e no fim.\n",
        "\n",
        "Crie um código que solicite uma frase à pessoa usuária e imprima a mesma frase sem espaços em branco no início e no fim e em letras minúsculas.\n",
        "\n",
        "Crie um código que solicite uma frase à pessoa usuária e imprima a mesma frase com todas as vogais “e” trocadas pela letra “f”.\n",
        "\n",
        "Crie um código que solicite uma frase à pessoa usuária e imprima a mesma frase com todas as vogais “a” trocadas pela caractere “@”.\n",
        "\n",
        "Crie um código que solicite uma frase à pessoa usuária e imprima a mesma frase com todas as consoantes “s” trocadas pelo caractere “$”."
      ],
      "metadata": {
        "id": "KdiuJtCwDmhw"
      }
    },
    {
      "cell_type": "code",
      "source": [],
      "metadata": {
        "id": "55tCLolrDrmI"
      },
      "execution_count": null,
      "outputs": []
    }
  ]
}